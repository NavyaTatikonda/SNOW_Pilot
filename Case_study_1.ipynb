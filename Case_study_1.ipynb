{
  "nbformat": 4,
  "nbformat_minor": 0,
  "metadata": {
    "accelerator": "GPU",
    "colab": {
      "name": "Case study -1.ipynb",
      "provenance": []
    },
    "kernelspec": {
      "display_name": "Python 3",
      "name": "python3"
    }
  },
  "cells": [
    {
      "cell_type": "code",
      "metadata": {
        "colab": {
          "base_uri": "https://localhost:8080/"
        },
        "id": "dzV8uI5YUSjg",
        "outputId": "b30b8dfe-ad61-4fe2-f138-fb93f3be0ce0"
      },
      "source": [
        "from google.colab import drive\n",
        "drive.mount('/content/drive')"
      ],
      "execution_count": 110,
      "outputs": [
        {
          "output_type": "stream",
          "text": [
            "Drive already mounted at /content/drive; to attempt to forcibly remount, call drive.mount(\"/content/drive\", force_remount=True).\n"
          ],
          "name": "stdout"
        }
      ]
    },
    {
      "cell_type": "code",
      "metadata": {
        "colab": {
          "base_uri": "https://localhost:8080/"
        },
        "id": "mkNO-RUhVlWj",
        "outputId": "92e9b9b3-61aa-49c6-cdd6-73a934cfeeb0"
      },
      "source": [
        "import pandas as pd\n",
        "import numpy as np\n",
        "\n",
        "df=pd.read_csv('/content/drive/MyDrive/AAIC/incident_event_log.csv')\n",
        "df.columns"
      ],
      "execution_count": 111,
      "outputs": [
        {
          "output_type": "execute_result",
          "data": {
            "text/plain": [
              "Index(['number', 'incident_state', 'active', 'reassignment_count',\n",
              "       'reopen_count', 'sys_mod_count', 'made_sla', 'caller_id', 'opened_by',\n",
              "       'opened_at', 'sys_created_by', 'sys_created_at', 'sys_updated_by',\n",
              "       'sys_updated_at', 'contact_type', 'location', 'category', 'subcategory',\n",
              "       'u_symptom', 'cmdb_ci', 'impact', 'urgency', 'priority',\n",
              "       'assignment_group', 'assigned_to', 'knowledge',\n",
              "       'u_priority_confirmation', 'notify', 'problem_id', 'rfc', 'vendor',\n",
              "       'caused_by', 'closed_code', 'resolved_by', 'resolved_at', 'closed_at'],\n",
              "      dtype='object')"
            ]
          },
          "metadata": {
            "tags": []
          },
          "execution_count": 111
        }
      ]
    },
    {
      "cell_type": "markdown",
      "metadata": {
        "id": "Ma-_eT8IWCPg"
      },
      "source": [
        "Checking the Null values"
      ]
    },
    {
      "cell_type": "code",
      "metadata": {
        "colab": {
          "base_uri": "https://localhost:8080/"
        },
        "id": "gTDyVFHIVrIl",
        "outputId": "cd013cd0-288e-4fd2-b66a-3d21b5a5b3d9"
      },
      "source": [
        "df.isna().sum()"
      ],
      "execution_count": 112,
      "outputs": [
        {
          "output_type": "execute_result",
          "data": {
            "text/plain": [
              "number                     0\n",
              "incident_state             0\n",
              "active                     0\n",
              "reassignment_count         0\n",
              "reopen_count               0\n",
              "sys_mod_count              0\n",
              "made_sla                   0\n",
              "caller_id                  0\n",
              "opened_by                  0\n",
              "opened_at                  0\n",
              "sys_created_by             0\n",
              "sys_created_at             0\n",
              "sys_updated_by             0\n",
              "sys_updated_at             0\n",
              "contact_type               0\n",
              "location                   0\n",
              "category                   0\n",
              "subcategory                0\n",
              "u_symptom                  0\n",
              "cmdb_ci                    0\n",
              "impact                     0\n",
              "urgency                    0\n",
              "priority                   0\n",
              "assignment_group           0\n",
              "assigned_to                0\n",
              "knowledge                  0\n",
              "u_priority_confirmation    0\n",
              "notify                     0\n",
              "problem_id                 0\n",
              "rfc                        0\n",
              "vendor                     0\n",
              "caused_by                  0\n",
              "closed_code                0\n",
              "resolved_by                0\n",
              "resolved_at                0\n",
              "closed_at                  0\n",
              "dtype: int64"
            ]
          },
          "metadata": {
            "tags": []
          },
          "execution_count": 112
        }
      ]
    },
    {
      "cell_type": "markdown",
      "metadata": {
        "id": "lfI9hxXUWG39"
      },
      "source": [
        "There are no NaN or null values to replace."
      ]
    },
    {
      "cell_type": "markdown",
      "metadata": {
        "id": "ZarIEv_RWKEZ"
      },
      "source": [
        "<h2> Goal in EDA </h2> \n",
        "    1. Which category tickets are taking longer time? <br>\n",
        "    2. How many tickets have missed the SLA <br>\n",
        "    3. How many tickets are closed in a day and how many in more than 3 days. (using IQR) <br>\n",
        "    4. How many aged tickets are there and will they get good CSAT score? (CSAT score depeds on the recount number, age of the ticket, reassignement count)"
      ]
    },
    {
      "cell_type": "code",
      "metadata": {
        "colab": {
          "base_uri": "https://localhost:8080/"
        },
        "id": "sXLyv3gpWD1k",
        "outputId": "2d9f2a0c-17ea-4cab-903b-4ef4affd35fa"
      },
      "source": [
        "df['made_sla'].value_counts()\n",
        "\n",
        "#made_sla: boolean attribute that shows whether the incident missed the SLA or has time still."
      ],
      "execution_count": 113,
      "outputs": [
        {
          "output_type": "execute_result",
          "data": {
            "text/plain": [
              "True     111738\n",
              "False      8260\n",
              "Name: made_sla, dtype: int64"
            ]
          },
          "metadata": {
            "tags": []
          },
          "execution_count": 113
        }
      ]
    },
    {
      "cell_type": "code",
      "metadata": {
        "colab": {
          "base_uri": "https://localhost:8080/",
          "height": 297
        },
        "id": "0EjpPaGdWWNo",
        "outputId": "5f0efaf6-9a9f-4ceb-fb08-8fd22fe73a0d"
      },
      "source": [
        "import seaborn as sns #IMPORTING The plotting library\n",
        "import matplotlib as plt\n",
        "\n",
        "df.made_sla.value_counts().sort_values().plot(kind = 'bar')"
      ],
      "execution_count": 114,
      "outputs": [
        {
          "output_type": "execute_result",
          "data": {
            "text/plain": [
              "<matplotlib.axes._subplots.AxesSubplot at 0x7fb3b2123390>"
            ]
          },
          "metadata": {
            "tags": []
          },
          "execution_count": 114
        },
        {
          "output_type": "display_data",
          "data": {
            "image/png": "[encoded data removed]",
            "text/plain": [
              "<Figure size 432x288 with 1 Axes>"
            ]
          },
          "metadata": {
            "tags": [],
            "needs_background": "light"
          }
        }
      ]
    },
    {
      "cell_type": "markdown",
      "metadata": {
        "id": "Q_Jor6GmWM8f"
      },
      "source": [
        "This is an imbalanced data so accuracy cannot be a metric. \n",
        "False negative is the metric here and it has to be as less as possible."
      ]
    },
    {
      "cell_type": "markdown",
      "metadata": {
        "id": "cSR2t2fIWb7O"
      },
      "source": [
        "<h2> Univariate analysis </h2>"
      ]
    },
    {
      "cell_type": "code",
      "metadata": {
        "colab": {
          "base_uri": "https://localhost:8080/"
        },
        "id": "i8LAB230WMZ7",
        "outputId": "d1a088ad-ead3-4740-bea7-10af14ff669b"
      },
      "source": [
        "!pip install phik"
      ],
      "execution_count": 115,
      "outputs": [
        {
          "output_type": "stream",
          "text": [
            "Requirement already satisfied: phik in /usr/local/lib/python3.6/dist-packages (0.11.0)\n",
            "Requirement already satisfied: joblib>=0.14.1 in /usr/local/lib/python3.6/dist-packages (from phik) (1.0.0)\n",
            "Requirement already satisfied: numpy>=1.15.4 in /usr/local/lib/python3.6/dist-packages (from phik) (1.19.5)\n",
            "Requirement already satisfied: numba>=0.38.1 in /usr/local/lib/python3.6/dist-packages (from phik) (0.51.2)\n",
            "Requirement already satisfied: scipy>=1.1.0 in /usr/local/lib/python3.6/dist-packages (from phik) (1.4.1)\n",
            "Requirement already satisfied: matplotlib>=2.2.3 in /usr/local/lib/python3.6/dist-packages (from phik) (3.2.2)\n",
            "Requirement already satisfied: pandas>=0.23.4 in /usr/local/lib/python3.6/dist-packages (from phik) (1.1.5)\n",
            "Requirement already satisfied: llvmlite<0.35,>=0.34.0.dev0 in /usr/local/lib/python3.6/dist-packages (from numba>=0.38.1->phik) (0.34.0)\n",
            "Requirement already satisfied: setuptools in /usr/local/lib/python3.6/dist-packages (from numba>=0.38.1->phik) (51.3.3)\n",
            "Requirement already satisfied: kiwisolver>=1.0.1 in /usr/local/lib/python3.6/dist-packages (from matplotlib>=2.2.3->phik) (1.3.1)\n",
            "Requirement already satisfied: pyparsing!=2.0.4,!=2.1.2,!=2.1.6,>=2.0.1 in /usr/local/lib/python3.6/dist-packages (from matplotlib>=2.2.3->phik) (2.4.7)\n",
            "Requirement already satisfied: cycler>=0.10 in /usr/local/lib/python3.6/dist-packages (from matplotlib>=2.2.3->phik) (0.10.0)\n",
            "Requirement already satisfied: python-dateutil>=2.1 in /usr/local/lib/python3.6/dist-packages (from matplotlib>=2.2.3->phik) (2.8.1)\n",
            "Requirement already satisfied: pytz>=2017.2 in /usr/local/lib/python3.6/dist-packages (from pandas>=0.23.4->phik) (2018.9)\n",
            "Requirement already satisfied: six in /usr/local/lib/python3.6/dist-packages (from cycler>=0.10->matplotlib>=2.2.3->phik) (1.15.0)\n"
          ],
          "name": "stdout"
        }
      ]
    },
    {
      "cell_type": "code",
      "metadata": {
        "colab": {
          "base_uri": "https://localhost:8080/"
        },
        "id": "Sd1-l3i6aEc1",
        "outputId": "deeace42-f450-41a0-db2b-c71effcd69a6"
      },
      "source": [
        "df.columns"
      ],
      "execution_count": 116,
      "outputs": [
        {
          "output_type": "execute_result",
          "data": {
            "text/plain": [
              "Index(['number', 'incident_state', 'active', 'reassignment_count',\n",
              "       'reopen_count', 'sys_mod_count', 'made_sla', 'caller_id', 'opened_by',\n",
              "       'opened_at', 'sys_created_by', 'sys_created_at', 'sys_updated_by',\n",
              "       'sys_updated_at', 'contact_type', 'location', 'category', 'subcategory',\n",
              "       'u_symptom', 'cmdb_ci', 'impact', 'urgency', 'priority',\n",
              "       'assignment_group', 'assigned_to', 'knowledge',\n",
              "       'u_priority_confirmation', 'notify', 'problem_id', 'rfc', 'vendor',\n",
              "       'caused_by', 'closed_code', 'resolved_by', 'resolved_at', 'closed_at'],\n",
              "      dtype='object')"
            ]
          },
          "metadata": {
            "tags": []
          },
          "execution_count": 116
        }
      ]
    },
    {
      "cell_type": "code",
      "metadata": {
        "id": "hJ5ggbF0aJX9"
      },
      "source": [
        "#df=df.drop(['number','sys_mod_count','caller_id','opened_by','sys_created_by','location'],axis=True)"
      ],
      "execution_count": 117,
      "outputs": []
    },
    {
      "cell_type": "code",
      "metadata": {
        "colab": {
          "base_uri": "https://localhost:8080/",
          "height": 248
        },
        "id": "sUcGcMCfWoL1",
        "outputId": "4dd78874-dd93-41a8-f93a-0bb1103a2a93"
      },
      "source": [
        "import phik\n",
        "from phik import resources, report\n",
        "import matplotlib.pyplot as plt\n",
        "df[:10]\n",
        "df.corr(method=\"pearson\")"
      ],
      "execution_count": 118,
      "outputs": [
        {
          "output_type": "execute_result",
          "data": {
            "text/html": [
              "<div>\n",
              "<style scoped>\n",
              "    .dataframe tbody tr th:only-of-type {\n",
              "        vertical-align: middle;\n",
              "    }\n",
              "\n",
              "    .dataframe tbody tr th {\n",
              "        vertical-align: top;\n",
              "    }\n",
              "\n",
              "    .dataframe thead th {\n",
              "        text-align: right;\n",
              "    }\n",
              "</style>\n",
              "<table border=\"1\" class=\"dataframe\">\n",
              "  <thead>\n",
              "    <tr style=\"text-align: right;\">\n",
              "      <th></th>\n",
              "      <th>active</th>\n",
              "      <th>reassignment_count</th>\n",
              "      <th>reopen_count</th>\n",
              "      <th>sys_mod_count</th>\n",
              "      <th>made_sla</th>\n",
              "      <th>knowledge</th>\n",
              "      <th>u_priority_confirmation</th>\n",
              "    </tr>\n",
              "  </thead>\n",
              "  <tbody>\n",
              "    <tr>\n",
              "      <th>active</th>\n",
              "      <td>1.000000</td>\n",
              "      <td>0.041379</td>\n",
              "      <td>0.017933</td>\n",
              "      <td>-0.097613</td>\n",
              "      <td>0.588877</td>\n",
              "      <td>0.045495</td>\n",
              "      <td>-0.473268</td>\n",
              "    </tr>\n",
              "    <tr>\n",
              "      <th>reassignment_count</th>\n",
              "      <td>0.041379</td>\n",
              "      <td>1.000000</td>\n",
              "      <td>0.171593</td>\n",
              "      <td>0.527626</td>\n",
              "      <td>-0.084169</td>\n",
              "      <td>0.075911</td>\n",
              "      <td>0.011176</td>\n",
              "    </tr>\n",
              "    <tr>\n",
              "      <th>reopen_count</th>\n",
              "      <td>0.017933</td>\n",
              "      <td>0.171593</td>\n",
              "      <td>1.000000</td>\n",
              "      <td>0.245033</td>\n",
              "      <td>-0.017170</td>\n",
              "      <td>0.010445</td>\n",
              "      <td>0.132294</td>\n",
              "    </tr>\n",
              "    <tr>\n",
              "      <th>sys_mod_count</th>\n",
              "      <td>-0.097613</td>\n",
              "      <td>0.527626</td>\n",
              "      <td>0.245033</td>\n",
              "      <td>1.000000</td>\n",
              "      <td>-0.235021</td>\n",
              "      <td>0.062952</td>\n",
              "      <td>0.194123</td>\n",
              "    </tr>\n",
              "    <tr>\n",
              "      <th>made_sla</th>\n",
              "      <td>0.588877</td>\n",
              "      <td>-0.084169</td>\n",
              "      <td>-0.017170</td>\n",
              "      <td>-0.235021</td>\n",
              "      <td>1.000000</td>\n",
              "      <td>-0.070748</td>\n",
              "      <td>-0.233724</td>\n",
              "    </tr>\n",
              "    <tr>\n",
              "      <th>knowledge</th>\n",
              "      <td>0.045495</td>\n",
              "      <td>0.075911</td>\n",
              "      <td>0.010445</td>\n",
              "      <td>0.062952</td>\n",
              "      <td>-0.070748</td>\n",
              "      <td>1.000000</td>\n",
              "      <td>-0.229277</td>\n",
              "    </tr>\n",
              "    <tr>\n",
              "      <th>u_priority_confirmation</th>\n",
              "      <td>-0.473268</td>\n",
              "      <td>0.011176</td>\n",
              "      <td>0.132294</td>\n",
              "      <td>0.194123</td>\n",
              "      <td>-0.233724</td>\n",
              "      <td>-0.229277</td>\n",
              "      <td>1.000000</td>\n",
              "    </tr>\n",
              "  </tbody>\n",
              "</table>\n",
              "</div>"
            ],
            "text/plain": [
              "                           active  ...  u_priority_confirmation\n",
              "active                   1.000000  ...                -0.473268\n",
              "reassignment_count       0.041379  ...                 0.011176\n",
              "reopen_count             0.017933  ...                 0.132294\n",
              "sys_mod_count           -0.097613  ...                 0.194123\n",
              "made_sla                 0.588877  ...                -0.233724\n",
              "knowledge                0.045495  ...                -0.229277\n",
              "u_priority_confirmation -0.473268  ...                 1.000000\n",
              "\n",
              "[7 rows x 7 columns]"
            ]
          },
          "metadata": {
            "tags": []
          },
          "execution_count": 118
        }
      ]
    },
    {
      "cell_type": "code",
      "metadata": {
        "colab": {
          "base_uri": "https://localhost:8080/"
        },
        "id": "HpNwVNsEhLH5",
        "outputId": "8c1e235b-d46b-4c05-de60-20a1ccac2978"
      },
      "source": [
        "df.dtypes"
      ],
      "execution_count": 119,
      "outputs": [
        {
          "output_type": "execute_result",
          "data": {
            "text/plain": [
              "number                     object\n",
              "incident_state             object\n",
              "active                       bool\n",
              "reassignment_count          int64\n",
              "reopen_count                int64\n",
              "sys_mod_count               int64\n",
              "made_sla                     bool\n",
              "caller_id                  object\n",
              "opened_by                  object\n",
              "opened_at                  object\n",
              "sys_created_by             object\n",
              "sys_created_at             object\n",
              "sys_updated_by             object\n",
              "sys_updated_at             object\n",
              "contact_type               object\n",
              "location                   object\n",
              "category                   object\n",
              "subcategory                object\n",
              "u_symptom                  object\n",
              "cmdb_ci                    object\n",
              "impact                     object\n",
              "urgency                    object\n",
              "priority                   object\n",
              "assignment_group           object\n",
              "assigned_to                object\n",
              "knowledge                    bool\n",
              "u_priority_confirmation      bool\n",
              "notify                     object\n",
              "problem_id                 object\n",
              "rfc                        object\n",
              "vendor                     object\n",
              "caused_by                  object\n",
              "closed_code                object\n",
              "resolved_by                object\n",
              "resolved_at                object\n",
              "closed_at                  object\n",
              "dtype: object"
            ]
          },
          "metadata": {
            "tags": []
          },
          "execution_count": 119
        }
      ]
    },
    {
      "cell_type": "markdown",
      "metadata": {
        "id": "Dilg_ENzi4BY"
      },
      "source": [
        "Categorical data <br>\n",
        "- incident_state\n",
        "- caller_id\n",
        "- opened_by \n",
        "- sys_created_by             \n",
        "- sys_created_at \n",
        "- Contact_type\n",
        "- location\n",
        "- Category\n",
        "- Subcategory\n",
        "- impact\n",
        "- urgency\n",
        "- priority\n",
        "- assignment_group\n",
        "- assigned_to\n",
        "- problem_id\n",
        "- fc\n",
        "- vendor\n",
        "\n",
        "\n",
        "<br> The above data cannot be correlated"
      ]
    },
    {
      "cell_type": "code",
      "metadata": {
        "colab": {
          "base_uri": "https://localhost:8080/",
          "height": 248
        },
        "id": "JKakduKTiwBQ",
        "outputId": "0343979d-6362-4365-d117-ea4b397ad8e8"
      },
      "source": [
        "import phik\n",
        "from phik import resources, report\n",
        "import matplotlib.pyplot as plt\n",
        "df[:10]\n",
        "df.corr(method=\"pearson\")"
      ],
      "execution_count": 120,
      "outputs": [
        {
          "output_type": "execute_result",
          "data": {
            "text/html": [
              "<div>\n",
              "<style scoped>\n",
              "    .dataframe tbody tr th:only-of-type {\n",
              "        vertical-align: middle;\n",
              "    }\n",
              "\n",
              "    .dataframe tbody tr th {\n",
              "        vertical-align: top;\n",
              "    }\n",
              "\n",
              "    .dataframe thead th {\n",
              "        text-align: right;\n",
              "    }\n",
              "</style>\n",
              "<table border=\"1\" class=\"dataframe\">\n",
              "  <thead>\n",
              "    <tr style=\"text-align: right;\">\n",
              "      <th></th>\n",
              "      <th>active</th>\n",
              "      <th>reassignment_count</th>\n",
              "      <th>reopen_count</th>\n",
              "      <th>sys_mod_count</th>\n",
              "      <th>made_sla</th>\n",
              "      <th>knowledge</th>\n",
              "      <th>u_priority_confirmation</th>\n",
              "    </tr>\n",
              "  </thead>\n",
              "  <tbody>\n",
              "    <tr>\n",
              "      <th>active</th>\n",
              "      <td>1.000000</td>\n",
              "      <td>0.041379</td>\n",
              "      <td>0.017933</td>\n",
              "      <td>-0.097613</td>\n",
              "      <td>0.588877</td>\n",
              "      <td>0.045495</td>\n",
              "      <td>-0.473268</td>\n",
              "    </tr>\n",
              "    <tr>\n",
              "      <th>reassignment_count</th>\n",
              "      <td>0.041379</td>\n",
              "      <td>1.000000</td>\n",
              "      <td>0.171593</td>\n",
              "      <td>0.527626</td>\n",
              "      <td>-0.084169</td>\n",
              "      <td>0.075911</td>\n",
              "      <td>0.011176</td>\n",
              "    </tr>\n",
              "    <tr>\n",
              "      <th>reopen_count</th>\n",
              "      <td>0.017933</td>\n",
              "      <td>0.171593</td>\n",
              "      <td>1.000000</td>\n",
              "      <td>0.245033</td>\n",
              "      <td>-0.017170</td>\n",
              "      <td>0.010445</td>\n",
              "      <td>0.132294</td>\n",
              "    </tr>\n",
              "    <tr>\n",
              "      <th>sys_mod_count</th>\n",
              "      <td>-0.097613</td>\n",
              "      <td>0.527626</td>\n",
              "      <td>0.245033</td>\n",
              "      <td>1.000000</td>\n",
              "      <td>-0.235021</td>\n",
              "      <td>0.062952</td>\n",
              "      <td>0.194123</td>\n",
              "    </tr>\n",
              "    <tr>\n",
              "      <th>made_sla</th>\n",
              "      <td>0.588877</td>\n",
              "      <td>-0.084169</td>\n",
              "      <td>-0.017170</td>\n",
              "      <td>-0.235021</td>\n",
              "      <td>1.000000</td>\n",
              "      <td>-0.070748</td>\n",
              "      <td>-0.233724</td>\n",
              "    </tr>\n",
              "    <tr>\n",
              "      <th>knowledge</th>\n",
              "      <td>0.045495</td>\n",
              "      <td>0.075911</td>\n",
              "      <td>0.010445</td>\n",
              "      <td>0.062952</td>\n",
              "      <td>-0.070748</td>\n",
              "      <td>1.000000</td>\n",
              "      <td>-0.229277</td>\n",
              "    </tr>\n",
              "    <tr>\n",
              "      <th>u_priority_confirmation</th>\n",
              "      <td>-0.473268</td>\n",
              "      <td>0.011176</td>\n",
              "      <td>0.132294</td>\n",
              "      <td>0.194123</td>\n",
              "      <td>-0.233724</td>\n",
              "      <td>-0.229277</td>\n",
              "      <td>1.000000</td>\n",
              "    </tr>\n",
              "  </tbody>\n",
              "</table>\n",
              "</div>"
            ],
            "text/plain": [
              "                           active  ...  u_priority_confirmation\n",
              "active                   1.000000  ...                -0.473268\n",
              "reassignment_count       0.041379  ...                 0.011176\n",
              "reopen_count             0.017933  ...                 0.132294\n",
              "sys_mod_count           -0.097613  ...                 0.194123\n",
              "made_sla                 0.588877  ...                -0.233724\n",
              "knowledge                0.045495  ...                -0.229277\n",
              "u_priority_confirmation -0.473268  ...                 1.000000\n",
              "\n",
              "[7 rows x 7 columns]"
            ]
          },
          "metadata": {
            "tags": []
          },
          "execution_count": 120
        }
      ]
    },
    {
      "cell_type": "markdown",
      "metadata": {
        "id": "g5xnQIxdbty3"
      },
      "source": [
        "From the above, we can say that the above columns are corelated and not the others. \n",
        "\n",
        "Active variable has high corelation with made_sla."
      ]
    },
    {
      "cell_type": "code",
      "metadata": {
        "colab": {
          "base_uri": "https://localhost:8080/",
          "height": 295
        },
        "id": "lB7hHYUBYoxE",
        "outputId": "4008ac87-9fd7-435f-f2fc-4ace242b3a38"
      },
      "source": [
        "import seaborn as sns\n",
        "sns.stripplot(x=\"active\", y=\"made_sla\",data=df)"
      ],
      "execution_count": 121,
      "outputs": [
        {
          "output_type": "execute_result",
          "data": {
            "text/plain": [
              "<matplotlib.axes._subplots.AxesSubplot at 0x7fb3b1b2b908>"
            ]
          },
          "metadata": {
            "tags": []
          },
          "execution_count": 121
        },
        {
          "output_type": "display_data",
          "data": {
            "image/png": "[encoded data removed]",
            "text/plain": [
              "<Figure size 432x288 with 1 Axes>"
            ]
          },
          "metadata": {
            "tags": [],
            "needs_background": "light"
          }
        }
      ]
    },
    {
      "cell_type": "markdown",
      "metadata": {
        "id": "fASBVpe3gMAe"
      },
      "source": [
        "From the above plot it is evident that, if the ticket is not active, SLA did not miss (0) otherwise if the active status is True, the SLA has missed."
      ]
    },
    {
      "cell_type": "code",
      "metadata": {
        "colab": {
          "base_uri": "https://localhost:8080/"
        },
        "id": "IP7mH2aAuHJH",
        "outputId": "edccce82-5cc3-47c1-b857-bf94868ce928"
      },
      "source": [
        "df.columns"
      ],
      "execution_count": 122,
      "outputs": [
        {
          "output_type": "execute_result",
          "data": {
            "text/plain": [
              "Index(['number', 'incident_state', 'active', 'reassignment_count',\n",
              "       'reopen_count', 'sys_mod_count', 'made_sla', 'caller_id', 'opened_by',\n",
              "       'opened_at', 'sys_created_by', 'sys_created_at', 'sys_updated_by',\n",
              "       'sys_updated_at', 'contact_type', 'location', 'category', 'subcategory',\n",
              "       'u_symptom', 'cmdb_ci', 'impact', 'urgency', 'priority',\n",
              "       'assignment_group', 'assigned_to', 'knowledge',\n",
              "       'u_priority_confirmation', 'notify', 'problem_id', 'rfc', 'vendor',\n",
              "       'caused_by', 'closed_code', 'resolved_by', 'resolved_at', 'closed_at'],\n",
              "      dtype='object')"
            ]
          },
          "metadata": {
            "tags": []
          },
          "execution_count": 122
        }
      ]
    },
    {
      "cell_type": "code",
      "metadata": {
        "colab": {
          "base_uri": "https://localhost:8080/"
        },
        "id": "gorfddiTup5R",
        "outputId": "4896c7cf-37c8-4823-d017-38ad446cc9fe"
      },
      "source": [
        "df['impact'].value_counts()"
      ],
      "execution_count": 123,
      "outputs": [
        {
          "output_type": "execute_result",
          "data": {
            "text/plain": [
              "2 - Medium    113691\n",
              "3 - Low         3418\n",
              "1 - High        2889\n",
              "Name: impact, dtype: int64"
            ]
          },
          "metadata": {
            "tags": []
          },
          "execution_count": 123
        }
      ]
    },
    {
      "cell_type": "code",
      "metadata": {
        "colab": {
          "base_uri": "https://localhost:8080/"
        },
        "id": "irmNlipgux9F",
        "outputId": "522e14a2-a571-4129-830d-61aca97f35c0"
      },
      "source": [
        "df['urgency'].value_counts()"
      ],
      "execution_count": 124,
      "outputs": [
        {
          "output_type": "execute_result",
          "data": {
            "text/plain": [
              "2 - Medium    113550\n",
              "1 - High        3303\n",
              "3 - Low         3145\n",
              "Name: urgency, dtype: int64"
            ]
          },
          "metadata": {
            "tags": []
          },
          "execution_count": 124
        }
      ]
    },
    {
      "cell_type": "code",
      "metadata": {
        "colab": {
          "base_uri": "https://localhost:8080/"
        },
        "id": "LOLlQCZEvIx9",
        "outputId": "d051dd8c-dd33-4dcf-ce2d-a4b79f45c4f8"
      },
      "source": [
        "df['priority'].value_counts()"
      ],
      "execution_count": 125,
      "outputs": [
        {
          "output_type": "execute_result",
          "data": {
            "text/plain": [
              "3 - Moderate    112115\n",
              "4 - Low           3549\n",
              "2 - High          2499\n",
              "1 - Critical      1835\n",
              "Name: priority, dtype: int64"
            ]
          },
          "metadata": {
            "tags": []
          },
          "execution_count": 125
        }
      ]
    },
    {
      "cell_type": "code",
      "metadata": {
        "colab": {
          "base_uri": "https://localhost:8080/",
          "height": 278
        },
        "id": "X1XiZsdrvi9w",
        "outputId": "76221bdd-1946-4f96-b6ba-e21d0f019d80"
      },
      "source": [
        "ax = sns.countplot(x=\"urgency\", data=df)"
      ],
      "execution_count": 126,
      "outputs": [
        {
          "output_type": "display_data",
          "data": {
            "image/png": "[encoded data removed]",
            "text/plain": [
              "<Figure size 432x288 with 1 Axes>"
            ]
          },
          "metadata": {
            "tags": [],
            "needs_background": "light"
          }
        }
      ]
    },
    {
      "cell_type": "code",
      "metadata": {
        "colab": {
          "base_uri": "https://localhost:8080/",
          "height": 278
        },
        "id": "eIeeUC7I2JOE",
        "outputId": "605d98e5-55cc-44bc-8919-dc320fcd309e"
      },
      "source": [
        "ax = sns.countplot(x=\"urgency\",hue=\"made_sla\",data=df)"
      ],
      "execution_count": 127,
      "outputs": [
        {
          "output_type": "display_data",
          "data": {
            "image/png": "[encoded data removed]",
            "text/plain": [
              "<Figure size 432x288 with 1 Axes>"
            ]
          },
          "metadata": {
            "tags": [],
            "needs_background": "light"
          }
        }
      ]
    },
    {
      "cell_type": "markdown",
      "metadata": {
        "id": "Qs8hfp973uUP"
      },
      "source": [
        "From the above plots we can say that most of the tickets with low urgency have missed the SLAs and only a few tickets with Medium SLAs have saved the SLA to get the exact count we define it as below - "
      ]
    },
    {
      "cell_type": "code",
      "metadata": {
        "id": "hRpLB9P23Mz5"
      },
      "source": [
        "df_made_sla=df[df['made_sla']==True]\n",
        "\n",
        "#True indicates the SLA misses"
      ],
      "execution_count": 128,
      "outputs": []
    },
    {
      "cell_type": "code",
      "metadata": {
        "colab": {
          "base_uri": "https://localhost:8080/"
        },
        "id": "STV9fEv04bKe",
        "outputId": "725829ec-93eb-4351-9209-9ad4ec7533a7"
      },
      "source": [
        "len(df[df['urgency']==\"3 - Low\"])"
      ],
      "execution_count": 129,
      "outputs": [
        {
          "output_type": "execute_result",
          "data": {
            "text/plain": [
              "3145"
            ]
          },
          "metadata": {
            "tags": []
          },
          "execution_count": 129
        }
      ]
    },
    {
      "cell_type": "markdown",
      "metadata": {
        "id": "0o5Y3u5F5xHE"
      },
      "source": [
        "We have 3145 tickets with Low urgency"
      ]
    },
    {
      "cell_type": "code",
      "metadata": {
        "colab": {
          "base_uri": "https://localhost:8080/"
        },
        "id": "ynBBOwmy55WJ",
        "outputId": "50131849-b440-43fb-9925-b8ad71fba738"
      },
      "source": [
        "len(df_made_sla[df['urgency']==\"3 - Low\"])"
      ],
      "execution_count": 130,
      "outputs": [
        {
          "output_type": "stream",
          "text": [
            "/usr/local/lib/python3.6/dist-packages/ipykernel_launcher.py:1: UserWarning: Boolean Series key will be reindexed to match DataFrame index.\n",
            "  \"\"\"Entry point for launching an IPython kernel.\n"
          ],
          "name": "stderr"
        },
        {
          "output_type": "execute_result",
          "data": {
            "text/plain": [
              "3037"
            ]
          },
          "metadata": {
            "tags": []
          },
          "execution_count": 130
        }
      ]
    },
    {
      "cell_type": "markdown",
      "metadata": {
        "id": "KsmCYsLM5-Tq"
      },
      "source": [
        "Out of all the 3145 tickets available 3037 tickets have missed the SLA with low urgency."
      ]
    },
    {
      "cell_type": "code",
      "metadata": {
        "id": "TrU0iRNr45jv"
      },
      "source": [
        "df_made_sla=df[df['made_sla']==True]\n",
        "\n",
        "#True indicates the SLA misses"
      ],
      "execution_count": 131,
      "outputs": []
    },
    {
      "cell_type": "code",
      "metadata": {
        "colab": {
          "base_uri": "https://localhost:8080/"
        },
        "id": "306V1Wba-K00",
        "outputId": "f4176ee3-8128-45ed-ede2-cb497c798948"
      },
      "source": [
        "len(df[df['urgency']==\"1 - High\"])"
      ],
      "execution_count": 132,
      "outputs": [
        {
          "output_type": "execute_result",
          "data": {
            "text/plain": [
              "3303"
            ]
          },
          "metadata": {
            "tags": []
          },
          "execution_count": 132
        }
      ]
    },
    {
      "cell_type": "code",
      "metadata": {
        "colab": {
          "base_uri": "https://localhost:8080/"
        },
        "id": "4nFbTTmh-Mtc",
        "outputId": "748cbff4-fb2b-49bb-ade7-82525cb35225"
      },
      "source": [
        "len(df_made_sla[df['urgency']==\"1 - High\"])"
      ],
      "execution_count": 133,
      "outputs": [
        {
          "output_type": "stream",
          "text": [
            "/usr/local/lib/python3.6/dist-packages/ipykernel_launcher.py:1: UserWarning: Boolean Series key will be reindexed to match DataFrame index.\n",
            "  \"\"\"Entry point for launching an IPython kernel.\n"
          ],
          "name": "stderr"
        },
        {
          "output_type": "execute_result",
          "data": {
            "text/plain": [
              "2873"
            ]
          },
          "metadata": {
            "tags": []
          },
          "execution_count": 133
        }
      ]
    },
    {
      "cell_type": "markdown",
      "metadata": {
        "id": "cYN5Y7Tq-Svr"
      },
      "source": [
        "Out of all the 3303 tickets with high urgency 2873 tickets have breached the SLA which is not accepted and need to take some action accordingly."
      ]
    },
    {
      "cell_type": "code",
      "metadata": {
        "colab": {
          "base_uri": "https://localhost:8080/",
          "height": 348
        },
        "id": "mKSFwIIJAYeh",
        "outputId": "c5870bfa-7567-4de7-b7d6-8a041be477e6"
      },
      "source": [
        "from scipy.stats import norm\n",
        "sns.distplot(df['made_sla'], fit = norm)"
      ],
      "execution_count": 134,
      "outputs": [
        {
          "output_type": "stream",
          "text": [
            "/usr/local/lib/python3.6/dist-packages/seaborn/distributions.py:2557: FutureWarning: `distplot` is a deprecated function and will be removed in a future version. Please adapt your code to use either `displot` (a figure-level function with similar flexibility) or `histplot` (an axes-level function for histograms).\n",
            "  warnings.warn(msg, FutureWarning)\n"
          ],
          "name": "stderr"
        },
        {
          "output_type": "execute_result",
          "data": {
            "text/plain": [
              "<matplotlib.axes._subplots.AxesSubplot at 0x7fb3b1a423c8>"
            ]
          },
          "metadata": {
            "tags": []
          },
          "execution_count": 134
        },
        {
          "output_type": "display_data",
          "data": {
            "image/png": "[encoded data removed]",
            "text/plain": [
              "<Figure size 432x288 with 1 Axes>"
            ]
          },
          "metadata": {
            "tags": [],
            "needs_background": "light"
          }
        }
      ]
    },
    {
      "cell_type": "markdown",
      "metadata": {
        "id": "NK2WD_W5Dm72"
      },
      "source": [
        "The data that we have is completely skewed"
      ]
    },
    {
      "cell_type": "markdown",
      "metadata": {
        "id": "dK4rzp5x-iep"
      },
      "source": [
        "Bivariate Analysis"
      ]
    },
    {
      "cell_type": "code",
      "metadata": {
        "colab": {
          "base_uri": "https://localhost:8080/",
          "height": 278
        },
        "id": "4eoZmXxa-Qqs",
        "outputId": "0ac3d77b-ed0e-441b-bf69-bf06a1b53115"
      },
      "source": [
        "plt.scatter(df.urgency,df.priority)\n",
        "plt.xlabel(\"Urgency\")\n",
        "plt.ylabel(\"Priority\")\n",
        "plt.show()"
      ],
      "execution_count": 135,
      "outputs": [
        {
          "output_type": "display_data",
          "data": {
            "image/png": "[encoded data removed]",
            "text/plain": [
              "<Figure size 432x288 with 1 Axes>"
            ]
          },
          "metadata": {
            "tags": [],
            "needs_background": "light"
          }
        }
      ]
    },
    {
      "cell_type": "markdown",
      "metadata": {
        "id": "AX6P4UnPAmkw"
      },
      "source": [
        "It is know that priority is an automated field that gets affected by Urgency and impact fiels. Above is the plot of Urgency Vs Prority"
      ]
    },
    {
      "cell_type": "markdown",
      "metadata": {
        "id": "AtLWOibeD1Ty"
      },
      "source": [
        "Correlation plot goes as below -"
      ]
    },
    {
      "cell_type": "code",
      "metadata": {
        "colab": {
          "base_uri": "https://localhost:8080/",
          "height": 391
        },
        "id": "fgdNJsk2ets8",
        "outputId": "839caab5-0629-4002-9274-fd7b74d8dd41"
      },
      "source": [
        "sns.heatmap(df.corr(), annot = True, fmt='.1g')"
      ],
      "execution_count": 136,
      "outputs": [
        {
          "output_type": "execute_result",
          "data": {
            "text/plain": [
              "<matplotlib.axes._subplots.AxesSubplot at 0x7fb3b18dc438>"
            ]
          },
          "metadata": {
            "tags": []
          },
          "execution_count": 136
        },
        {
          "output_type": "display_data",
          "data": {
            "image/png": "[encoded data removed]",
            "text/plain": [
              "<Figure size 432x288 with 2 Axes>"
            ]
          },
          "metadata": {
            "tags": [],
            "needs_background": "light"
          }
        }
      ]
    },
    {
      "cell_type": "code",
      "metadata": {
        "colab": {
          "base_uri": "https://localhost:8080/",
          "height": 717
        },
        "id": "k_6AVkboD4g2",
        "outputId": "205d35f6-990b-4ade-87e7-75681a4626ef"
      },
      "source": [
        "corrmat = df.corr(method='spearman')\n",
        "f, ax = plt.subplots(figsize=(12, 10))\n",
        "sns.heatmap(corrmat, ax=ax, cmap=\"YlGnBu\", linewidths=0.1)"
      ],
      "execution_count": 137,
      "outputs": [
        {
          "output_type": "execute_result",
          "data": {
            "text/plain": [
              "<matplotlib.axes._subplots.AxesSubplot at 0x7fb3b18a3c50>"
            ]
          },
          "metadata": {
            "tags": []
          },
          "execution_count": 137
        },
        {
          "output_type": "display_data",
          "data": {
            "image/png": "[encoded data removed]",
            "text/plain": [
              "<Figure size 864x720 with 2 Axes>"
            ]
          },
          "metadata": {
            "tags": [],
            "needs_background": "light"
          }
        }
      ]
    },
    {
      "cell_type": "code",
      "metadata": {
        "colab": {
          "base_uri": "https://localhost:8080/"
        },
        "id": "87GdhwcLEMFJ",
        "outputId": "36f7d82b-8c83-439a-cff4-37e72cf3a03b"
      },
      "source": [
        "df.columns"
      ],
      "execution_count": 138,
      "outputs": [
        {
          "output_type": "execute_result",
          "data": {
            "text/plain": [
              "Index(['number', 'incident_state', 'active', 'reassignment_count',\n",
              "       'reopen_count', 'sys_mod_count', 'made_sla', 'caller_id', 'opened_by',\n",
              "       'opened_at', 'sys_created_by', 'sys_created_at', 'sys_updated_by',\n",
              "       'sys_updated_at', 'contact_type', 'location', 'category', 'subcategory',\n",
              "       'u_symptom', 'cmdb_ci', 'impact', 'urgency', 'priority',\n",
              "       'assignment_group', 'assigned_to', 'knowledge',\n",
              "       'u_priority_confirmation', 'notify', 'problem_id', 'rfc', 'vendor',\n",
              "       'caused_by', 'closed_code', 'resolved_by', 'resolved_at', 'closed_at'],\n",
              "      dtype='object')"
            ]
          },
          "metadata": {
            "tags": []
          },
          "execution_count": 138
        }
      ]
    },
    {
      "cell_type": "code",
      "metadata": {
        "colab": {
          "base_uri": "https://localhost:8080/"
        },
        "id": "XUgtLqfJoVD5",
        "outputId": "5090c6ab-6181-4648-c5b3-e2916b86ae15"
      },
      "source": [
        "df.dtypes"
      ],
      "execution_count": 139,
      "outputs": [
        {
          "output_type": "execute_result",
          "data": {
            "text/plain": [
              "number                     object\n",
              "incident_state             object\n",
              "active                       bool\n",
              "reassignment_count          int64\n",
              "reopen_count                int64\n",
              "sys_mod_count               int64\n",
              "made_sla                     bool\n",
              "caller_id                  object\n",
              "opened_by                  object\n",
              "opened_at                  object\n",
              "sys_created_by             object\n",
              "sys_created_at             object\n",
              "sys_updated_by             object\n",
              "sys_updated_at             object\n",
              "contact_type               object\n",
              "location                   object\n",
              "category                   object\n",
              "subcategory                object\n",
              "u_symptom                  object\n",
              "cmdb_ci                    object\n",
              "impact                     object\n",
              "urgency                    object\n",
              "priority                   object\n",
              "assignment_group           object\n",
              "assigned_to                object\n",
              "knowledge                    bool\n",
              "u_priority_confirmation      bool\n",
              "notify                     object\n",
              "problem_id                 object\n",
              "rfc                        object\n",
              "vendor                     object\n",
              "caused_by                  object\n",
              "closed_code                object\n",
              "resolved_by                object\n",
              "resolved_at                object\n",
              "closed_at                  object\n",
              "dtype: object"
            ]
          },
          "metadata": {
            "tags": []
          },
          "execution_count": 139
        }
      ]
    },
    {
      "cell_type": "markdown",
      "metadata": {
        "id": "YGfohFhZjtnA"
      },
      "source": [
        "<h2> Feature Engineering </h2>"
      ]
    },
    {
      "cell_type": "markdown",
      "metadata": {
        "id": "VHHymCS2mIFO"
      },
      "source": [
        "Categorical varoiables"
      ]
    },
    {
      "cell_type": "markdown",
      "metadata": {
        "id": "xdOhBDCcoMC0"
      },
      "source": [
        "Categorical - <br>\n",
        "- Incident_state\n",
        "- caller_id\n",
        "- opened_by\n",
        "- caller_id                 \n",
        "- opened_by                  \n",
        "- opened_at                  \n",
        "- sys_created_by             \n",
        "- sys_created_at             \n",
        "- sys_updated_by             \n",
        "- sys_updated_at             \n",
        "- contact_type               \n",
        "- location                   \n",
        "- category                   \n",
        "- subcategory                \n",
        "- u_symptom                  \n",
        "- cmdb_ci                    \n",
        "- impact                     \n",
        "- urgency                    \n",
        "- priority                   \n",
        "- assignment_group           \n",
        "- assigned_to                \n",
        "- notify                     \n",
        "- problem_id                 \n",
        "- rfc                         \n",
        "- vendor                      \n",
        "- caused_by                    \n",
        "- closed_code                   \n",
        "- resolved_by                   \n",
        "- resolved_at                   \n",
        "- closed_at                     \n",
        "\n",
        "\n",
        "<h4> Out of all the categorical variables we would only need the below for further analysis on SLA.</h4> <br>\n",
        "\n",
        "*   Incident_state\n",
        "*   contact_type\n",
        "*   location  \n",
        "*   category \n",
        "*   subcategory   \n",
        "*   assignment_group\n",
        "*   assigned_to\n",
        "\n"
      ]
    },
    {
      "cell_type": "markdown",
      "metadata": {
        "id": "EkmkC9hWuPNu"
      },
      "source": [
        "Train and test split"
      ]
    },
    {
      "cell_type": "code",
      "metadata": {
        "colab": {
          "base_uri": "https://localhost:8080/"
        },
        "id": "ErkismRcuOvR",
        "outputId": "bde12810-c11c-400d-b0c4-aee12f2b7ee4"
      },
      "source": [
        "y=df['made_sla']\n",
        "X=df.drop(['made_sla'],axis=1)\n",
        "print(y.shape)\n",
        "print(X.shape)"
      ],
      "execution_count": 140,
      "outputs": [
        {
          "output_type": "stream",
          "text": [
            "(119998,)\n",
            "(119998, 35)\n"
          ],
          "name": "stdout"
        }
      ]
    },
    {
      "cell_type": "code",
      "metadata": {
        "colab": {
          "base_uri": "https://localhost:8080/"
        },
        "id": "GQ6SZxW3uh11",
        "outputId": "ecf45b6d-6e31-4b7b-c3e6-c22a5284e8bf"
      },
      "source": [
        "from sklearn.model_selection import train_test_split\n",
        "#Split the data between train and test\n",
        "X_train,X_test,y_train,y_test=train_test_split(X,y,test_size=0.33,stratify=y)\n",
        "print(X_train.shape)\n",
        "print(y_train.shape)\n",
        "print(X_test.shape)\n",
        "print(y_test.shape)"
      ],
      "execution_count": 141,
      "outputs": [
        {
          "output_type": "stream",
          "text": [
            "(80398, 35)\n",
            "(80398,)\n",
            "(39600, 35)\n",
            "(39600,)\n"
          ],
          "name": "stdout"
        }
      ]
    },
    {
      "cell_type": "markdown",
      "metadata": {
        "id": "sgRsUusAqmJ_"
      },
      "source": [
        "<H3> One Hot encoding on categorical data </H3>"
      ]
    },
    {
      "cell_type": "markdown",
      "metadata": {
        "id": "motg8S_EjG1G"
      },
      "source": [
        "\n",
        "*   Incident_state\n",
        "*   contact_type\n",
        "*   location  \n",
        "*   category \n",
        "*   subcategory   \n",
        "*   assignment_group\n",
        "*   assigned_to\n"
      ]
    },
    {
      "cell_type": "code",
      "metadata": {
        "id": "GXER36EGmKrd"
      },
      "source": [
        "from sklearn.feature_extraction.text import TfidfVectorizer\n",
        "from sklearn.feature_extraction.text import CountVectorizer\n",
        "from sklearn.preprocessing import LabelEncoder,OneHotEncoder\n",
        "from sklearn.preprocessing import Normalizer\n",
        "\n",
        "le = LabelEncoder()\n",
        "\n",
        "#Incident_state\n",
        "le.fit(X_train['incident_state'])\n",
        "X_train_incident_state_norm = le.transform(X_train['incident_state'])\n",
        "X_test_incident_state_norm = le.transform(X_test['incident_state'])"
      ],
      "execution_count": 142,
      "outputs": []
    },
    {
      "cell_type": "code",
      "metadata": {
        "id": "FTEKciGvuOBc"
      },
      "source": [
        "from sklearn.feature_extraction.text import TfidfVectorizer\n",
        "from sklearn.feature_extraction.text import CountVectorizer\n",
        "from sklearn.preprocessing import LabelEncoder,OneHotEncoder\n",
        "from sklearn.preprocessing import Normalizer\n",
        "\n",
        "le = LabelEncoder()\n",
        "\n",
        "#contact_type\n",
        "le.fit(X_train['contact_type'])\n",
        "X_train_contact_type_norm = le.transform(X_train['contact_type'])\n",
        "X_test_contact_type_norm = le.transform(X_test['contact_type'])"
      ],
      "execution_count": 143,
      "outputs": []
    },
    {
      "cell_type": "code",
      "metadata": {
        "id": "5VFffKmbjR6r"
      },
      "source": [
        "le = LabelEncoder()\n",
        "\n",
        "#location\n",
        "\n",
        "le.fit(pd.concat([X_train['location'], X_test['location']], axis=0, sort=False))\n",
        "X_train_location_norm = le.transform(X_train['location'])\n",
        "X_test_location_norm = le.transform(X_test['location'])"
      ],
      "execution_count": 145,
      "outputs": []
    },
    {
      "cell_type": "code",
      "metadata": {
        "id": "pk9co8jvjYqn"
      },
      "source": [
        "le = LabelEncoder()\n",
        "#category\n",
        "le.fit(pd.concat([X_train['category'], X_test['category']], axis=0, sort=False))\n",
        "#X_train_category_norm = le.transform(X_train['category'])\n",
        "X_test_category_norm = le.transform(X_test['category'])"
      ],
      "execution_count": 146,
      "outputs": []
    },
    {
      "cell_type": "code",
      "metadata": {
        "id": "4nGE5lc7j0R1"
      },
      "source": [
        "le = LabelEncoder()\n",
        "\n",
        "#subcategory\n",
        "#le.fit(X_train['subcategory'])\n",
        "#http://kagglesolutions.com/r/feature-engineering--label-encoding\n",
        "\n",
        "le.fit(pd.concat([X_train['subcategory'], X_test['subcategory']], axis=0, sort=False))\n",
        "\n",
        "X_train_subcategory_norm = le.transform(X_train['subcategory'])\n",
        "X_test_subcategory_norm = le.transform(X_test['subcategory'])"
      ],
      "execution_count": 147,
      "outputs": []
    },
    {
      "cell_type": "code",
      "metadata": {
        "id": "nq0G0kx6j9It"
      },
      "source": [
        "#assignment_group\n",
        "\n",
        "#le.fit(X_train['assignment_group'])\n",
        "\n",
        "le.fit(pd.concat([X_train['assignment_group'], X_test['assignment_group']], axis=0, sort=False))\n",
        "\n",
        "X_train_assignment_group_norm = le.transform(X_train['assignment_group'])\n",
        "X_test_assignment_group_norm = le.transform(X_test['assignment_group'])"
      ],
      "execution_count": 148,
      "outputs": []
    },
    {
      "cell_type": "code",
      "metadata": {
        "id": "MkFJpX0SkRQ_"
      },
      "source": [
        "#assigned_to\n",
        "\n",
        "#le.fit(X_train['assigned_to'])\n",
        "\n",
        "le.fit(pd.concat([X_train['assigned_to'], X_test['assigned_to']], axis=0, sort=False))\n",
        "\n",
        "X_train_assigned_to_norm = le.transform(X_train['assigned_to'])\n",
        "X_test_assigned_to_norm = le.transform(X_test['assigned_to'])"
      ],
      "execution_count": 149,
      "outputs": []
    },
    {
      "cell_type": "markdown",
      "metadata": {
        "id": "H2lPvELLwIjl"
      },
      "source": [
        "<h4> Create a new feature</h4>"
      ]
    },
    {
      "cell_type": "markdown",
      "metadata": {
        "id": "bjA8P0p2wNet"
      },
      "source": [
        "<p> Age of the ticket </p>\n",
        "\n",
        "Age of the ticket helps engineers to treat the ticket with priority so that they can save the SLA <br>\n",
        "\n",
        "Age = df['opened_at']-df['resolved_at']"
      ]
    },
    {
      "cell_type": "code",
      "metadata": {
        "colab": {
          "base_uri": "https://localhost:8080/"
        },
        "id": "OXYFFlUVwM3O",
        "outputId": "42679c25-d257-4cd6-bfdb-3f676c8701fd"
      },
      "source": [
        "df['opened_at'].head(5)"
      ],
      "execution_count": 150,
      "outputs": [
        {
          "output_type": "execute_result",
          "data": {
            "text/plain": [
              "0    29/2/2016 01:16\n",
              "1    29/2/2016 01:16\n",
              "2    29/2/2016 01:16\n",
              "3    29/2/2016 01:16\n",
              "4    29/2/2016 04:40\n",
              "Name: opened_at, dtype: object"
            ]
          },
          "metadata": {
            "tags": []
          },
          "execution_count": 150
        }
      ]
    },
    {
      "cell_type": "code",
      "metadata": {
        "colab": {
          "base_uri": "https://localhost:8080/"
        },
        "id": "Kb3IV143xMjJ",
        "outputId": "5d44ca3f-3345-4a45-defd-ce3e4d2a298e"
      },
      "source": [
        "df['resolved_at'].head(5)"
      ],
      "execution_count": 151,
      "outputs": [
        {
          "output_type": "execute_result",
          "data": {
            "text/plain": [
              "0    29/2/2016 11:29\n",
              "1    29/2/2016 11:29\n",
              "2    29/2/2016 11:29\n",
              "3    29/2/2016 11:29\n",
              "4     1/3/2016 09:52\n",
              "Name: resolved_at, dtype: object"
            ]
          },
          "metadata": {
            "tags": []
          },
          "execution_count": 151
        }
      ]
    },
    {
      "cell_type": "code",
      "metadata": {
        "colab": {
          "base_uri": "https://localhost:8080/"
        },
        "id": "R22AaYhSxPNc",
        "outputId": "7fea5007-136e-4af5-80e5-496da0c57b5f"
      },
      "source": [
        "import datetime\n",
        "\n",
        "#df['age']=(df['opened_at'].astype(float)-df['resolved_at'].astype(float))\n",
        "#df['age']=df['age']/np.timedelta64(1,'D')\n",
        "\n",
        "df['opened_at']=pd.to_datetime(df.opened_at)\n",
        "#df['resolved_at']=pd.to_datetime(df.resolved_at)\n",
        "\n",
        "df['opened_at'] = pd.to_datetime(df['opened_at']).dt.date\n",
        "#new_time = dfs['XYF']['TimeUS'].astype(float)\n",
        "#new_time_F = new_time / 1000000\n",
        "\n",
        "df['opened_at']"
      ],
      "execution_count": 152,
      "outputs": [
        {
          "output_type": "execute_result",
          "data": {
            "text/plain": [
              "0         2016-02-29\n",
              "1         2016-02-29\n",
              "2         2016-02-29\n",
              "3         2016-02-29\n",
              "4         2016-02-29\n",
              "             ...    \n",
              "119993    2016-05-13\n",
              "119994    2016-05-13\n",
              "119995    2016-05-13\n",
              "119996    2016-05-13\n",
              "119997    2016-05-13\n",
              "Name: opened_at, Length: 119998, dtype: object"
            ]
          },
          "metadata": {
            "tags": []
          },
          "execution_count": 152
        }
      ]
    },
    {
      "cell_type": "code",
      "metadata": {
        "colab": {
          "base_uri": "https://localhost:8080/"
        },
        "id": "L7pXD_9H2048",
        "outputId": "020d299f-94b9-4e53-d086-db39db041d46"
      },
      "source": [
        "df['resolved_at']=df['resolved_at'].str[:-5]\n",
        "df['resolved_at']"
      ],
      "execution_count": 153,
      "outputs": [
        {
          "output_type": "execute_result",
          "data": {
            "text/plain": [
              "0         29/2/2016 \n",
              "1         29/2/2016 \n",
              "2         29/2/2016 \n",
              "3         29/2/2016 \n",
              "4          1/3/2016 \n",
              "             ...    \n",
              "119993    13/5/2016 \n",
              "119994    13/5/2016 \n",
              "119995              \n",
              "119996              \n",
              "119997    17/5/2016 \n",
              "Name: resolved_at, Length: 119998, dtype: object"
            ]
          },
          "metadata": {
            "tags": []
          },
          "execution_count": 153
        }
      ]
    },
    {
      "cell_type": "code",
      "metadata": {
        "colab": {
          "base_uri": "https://localhost:8080/"
        },
        "id": "S1bM7K6Oy-F9",
        "outputId": "a33cf036-8f6b-4df6-c35d-5870467d9dea"
      },
      "source": [
        "import datetime\n",
        "\n",
        "#df['age']=(df['opened_at'].astype(float)-df['resolved_at'].astype(float))\n",
        "#df['age']=df['age']/np.timedelta64(1,'D')\n",
        "\n",
        "df['resolved_at']=pd.to_datetime(df.resolved_at)\n",
        "#df['resolved_at']=pd.to_datetime(df.resolved_at)\n",
        "\n",
        "df['resolved_at'] = pd.to_datetime(df['resolved_at']).dt.date\n",
        "#new_time = dfs['XYF']['TimeUS'].astype(float)\n",
        "#new_time_F = new_time / 1000000\n",
        "\n",
        "df['resolved_at']"
      ],
      "execution_count": 154,
      "outputs": [
        {
          "output_type": "execute_result",
          "data": {
            "text/plain": [
              "0         2016-02-29\n",
              "1         2016-02-29\n",
              "2         2016-02-29\n",
              "3         2016-02-29\n",
              "4         2016-01-03\n",
              "             ...    \n",
              "119993    2016-05-13\n",
              "119994    2016-05-13\n",
              "119995           NaT\n",
              "119996           NaT\n",
              "119997    2016-05-17\n",
              "Name: resolved_at, Length: 119998, dtype: object"
            ]
          },
          "metadata": {
            "tags": []
          },
          "execution_count": 154
        }
      ]
    },
    {
      "cell_type": "code",
      "metadata": {
        "colab": {
          "base_uri": "https://localhost:8080/"
        },
        "id": "QqnlaRia4p9Q",
        "outputId": "7d336345-ecaf-434b-bb2e-078f13ac2d03"
      },
      "source": [
        "df['resolved_at'].fillna(0)"
      ],
      "execution_count": 155,
      "outputs": [
        {
          "output_type": "execute_result",
          "data": {
            "text/plain": [
              "0         2016-02-29\n",
              "1         2016-02-29\n",
              "2         2016-02-29\n",
              "3         2016-02-29\n",
              "4         2016-01-03\n",
              "             ...    \n",
              "119993    2016-05-13\n",
              "119994    2016-05-13\n",
              "119995             0\n",
              "119996             0\n",
              "119997    2016-05-17\n",
              "Name: resolved_at, Length: 119998, dtype: object"
            ]
          },
          "metadata": {
            "tags": []
          },
          "execution_count": 155
        }
      ]
    },
    {
      "cell_type": "code",
      "metadata": {
        "colab": {
          "base_uri": "https://localhost:8080/"
        },
        "id": "HpS1Rbi-52ns",
        "outputId": "f96b25a5-cdeb-4422-edb6-b9817ccaa4e3"
      },
      "source": [
        "df['opened_at'].fillna(0)"
      ],
      "execution_count": 156,
      "outputs": [
        {
          "output_type": "execute_result",
          "data": {
            "text/plain": [
              "0         2016-02-29\n",
              "1         2016-02-29\n",
              "2         2016-02-29\n",
              "3         2016-02-29\n",
              "4         2016-02-29\n",
              "             ...    \n",
              "119993    2016-05-13\n",
              "119994    2016-05-13\n",
              "119995    2016-05-13\n",
              "119996    2016-05-13\n",
              "119997    2016-05-13\n",
              "Name: opened_at, Length: 119998, dtype: object"
            ]
          },
          "metadata": {
            "tags": []
          },
          "execution_count": 156
        }
      ]
    },
    {
      "cell_type": "code",
      "metadata": {
        "colab": {
          "base_uri": "https://localhost:8080/"
        },
        "id": "HMGA6RPZ8sJC",
        "outputId": "a35140ac-1051-4c87-c8ef-5ec617e5faf2"
      },
      "source": [
        "#df['age']=df['resolved_at']-df['opened_at']\n",
        "df['resolved_at'].dtypes"
      ],
      "execution_count": 160,
      "outputs": [
        {
          "output_type": "execute_result",
          "data": {
            "text/plain": [
              "dtype('O')"
            ]
          },
          "metadata": {
            "tags": []
          },
          "execution_count": 160
        }
      ]
    },
    {
      "cell_type": "code",
      "metadata": {
        "colab": {
          "base_uri": "https://localhost:8080/"
        },
        "id": "Ys1-Hm9p9gfq",
        "outputId": "db76f199-143b-46d7-acb4-211a94bf611b"
      },
      "source": [
        "df['opened_at'].dtypes"
      ],
      "execution_count": 161,
      "outputs": [
        {
          "output_type": "execute_result",
          "data": {
            "text/plain": [
              "dtype('O')"
            ]
          },
          "metadata": {
            "tags": []
          },
          "execution_count": 161
        }
      ]
    },
    {
      "cell_type": "code",
      "metadata": {
        "colab": {
          "base_uri": "https://localhost:8080/"
        },
        "id": "4ZEg3wAL9jQR",
        "outputId": "c9a97bfe-1f76-42d1-904a-268322b2fa00"
      },
      "source": [
        "df['age']=df['resolved_at']-df['opened_at']\n",
        "df['age']"
      ],
      "execution_count": 163,
      "outputs": [
        {
          "output_type": "execute_result",
          "data": {
            "text/plain": [
              "0          0 days\n",
              "1          0 days\n",
              "2          0 days\n",
              "3          0 days\n",
              "4        -57 days\n",
              "           ...   \n",
              "119993     0 days\n",
              "119994     0 days\n",
              "119995        NaT\n",
              "119996        NaT\n",
              "119997     4 days\n",
              "Name: age, Length: 119998, dtype: timedelta64[ns]"
            ]
          },
          "metadata": {
            "tags": []
          },
          "execution_count": 163
        }
      ]
    },
    {
      "cell_type": "code",
      "metadata": {
        "colab": {
          "base_uri": "https://localhost:8080/"
        },
        "id": "EgENxUZb-Je7",
        "outputId": "666d1424-4ab0-4413-bca2-56552339c20f"
      },
      "source": [
        "df['age'].value_counts()"
      ],
      "execution_count": 164,
      "outputs": [
        {
          "output_type": "execute_result",
          "data": {
            "text/plain": [
              "0 days       32238\n",
              "1 days        5668\n",
              "31 days       3549\n",
              "2 days        2973\n",
              "30 days       2539\n",
              "             ...  \n",
              "266 days         4\n",
              "-27 days         4\n",
              "163 days         3\n",
              "-182 days        3\n",
              "-192 days        3\n",
              "Name: age, Length: 492, dtype: int64"
            ]
          },
          "metadata": {
            "tags": []
          },
          "execution_count": 164
        }
      ]
    },
    {
      "cell_type": "markdown",
      "metadata": {
        "id": "HE-s5q7p-Nql"
      },
      "source": [
        "From the above, we can clearly say that there are outliers in the data as the resolved date cannot be younger than opened date. <br>\n",
        "for ex. datapoint 4 says ticket was opened on 2016-02-29 (29th Feb) and resolved on 2016-01-03 (which is 3rd Jan) <br>\n"
      ]
    },
    {
      "cell_type": "markdown",
      "metadata": {
        "id": "m_ykeQdGvzW_"
      },
      "source": [
        "<H4>Encoding the numerical variables </H4>"
      ]
    },
    {
      "cell_type": "markdown",
      "metadata": {
        "id": "PIGKbymbv3ZV"
      },
      "source": [
        "\n",
        "*   impact\n",
        "*   urgency\n",
        "*   priority  \n",
        "*   age\n"
      ]
    },
    {
      "cell_type": "code",
      "metadata": {
        "colab": {
          "base_uri": "https://localhost:8080/"
        },
        "id": "admZJUC2DTro",
        "outputId": "2096edf2-9e51-45df-d882-59d5c6ced3c0"
      },
      "source": [
        "df['impact'].value_counts()"
      ],
      "execution_count": 175,
      "outputs": [
        {
          "output_type": "execute_result",
          "data": {
            "text/plain": [
              "2 - Medium    113691\n",
              "3 - Low         3418\n",
              "1 - High        2889\n",
              "Name: impact, dtype: int64"
            ]
          },
          "metadata": {
            "tags": []
          },
          "execution_count": 175
        }
      ]
    },
    {
      "cell_type": "code",
      "metadata": {
        "id": "UFCp1wc6C-eY"
      },
      "source": [
        ""
      ],
      "execution_count": null,
      "outputs": []
    }
  ]
}